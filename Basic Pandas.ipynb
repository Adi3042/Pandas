{
 "cells": [
  {
   "cell_type": "code",
   "execution_count": null,
   "id": "aaa787d2-4fcb-4de7-aae9-4506d75c91f2",
   "metadata": {},
   "outputs": [],
   "source": [
    "'''\n",
    "    Q1. Create a Pandas Series that contains the following data: 4, 8, 15, 16, 23, and 42. Then, print the series.\n",
    "'''"
   ]
  },
  {
   "cell_type": "code",
   "execution_count": 8,
   "id": "884f03ed-ecba-4831-8502-fe7e94c2aa0e",
   "metadata": {},
   "outputs": [
    {
     "name": "stdout",
     "output_type": "stream",
     "text": [
      "0     4\n",
      "1     8\n",
      "2    15\n",
      "3    16\n",
      "4    23\n",
      "5    42\n",
      "dtype: int64\n"
     ]
    }
   ],
   "source": [
    "import pandas as pd\n",
    "\n",
    "data = [4, 8, 15, 16, 23, 42]\n",
    "series = pd.Series(data)\n",
    "\n",
    "print(series)\n"
   ]
  },
  {
   "cell_type": "code",
   "execution_count": null,
   "id": "4e4c4803-fdc5-436f-a8c0-143aca679266",
   "metadata": {},
   "outputs": [],
   "source": [
    "'''\n",
    "    Q2. Create a variable of list type containing 10 elements in it, and apply pandas.Series function on the\n",
    "    variable print it.\n",
    "'''"
   ]
  },
  {
   "cell_type": "code",
   "execution_count": 9,
   "id": "07caa2f6-596b-44d7-a413-7e3fd135567b",
   "metadata": {},
   "outputs": [
    {
     "name": "stdout",
     "output_type": "stream",
     "text": [
      "0     1\n",
      "1     2\n",
      "2     3\n",
      "3     4\n",
      "4     5\n",
      "5     6\n",
      "6     7\n",
      "7     8\n",
      "8     9\n",
      "9    10\n",
      "dtype: int64\n"
     ]
    }
   ],
   "source": [
    "list = [1, 2, 3, 4, 5, 6, 7, 8, 9, 10]\n",
    "series = pd.Series(list)\n",
    "print(series)"
   ]
  },
  {
   "cell_type": "code",
   "execution_count": null,
   "id": "b5d7a08e-5be0-46a5-ae62-4c386c636dea",
   "metadata": {},
   "outputs": [],
   "source": [
    "'''\n",
    "    Q3. Create a Pandas DataFrame that contains the following data:\n",
    "\n",
    "        Name     Age     Gender\n",
    "        Alice    25      Female\n",
    "        Bob      30      Male\n",
    "        Claire   27      Female\n",
    "    \n",
    "    Then, print the DataFrame.\n",
    "'''"
   ]
  },
  {
   "cell_type": "code",
   "execution_count": 11,
   "id": "0436c659-e8c4-4140-a83a-67fb61bfb7df",
   "metadata": {},
   "outputs": [
    {
     "name": "stdout",
     "output_type": "stream",
     "text": [
      "     Name Age  Gender\n",
      "0   Alice  25  Female\n",
      "1     Bob  30    Male\n",
      "2  Claire  27  Female\n"
     ]
    }
   ],
   "source": [
    "data = {\"Name\" : [\"Alice\",\"Bob\",\"Claire\"],\n",
    "        \"Age\" : [\"25\",\"30\",\"27\"],\n",
    "        \"Gender\" : [\"Female\",\"Male\",\"Female\"]\n",
    "        }\n",
    "df = pd.DataFrame(data)\n",
    "print(df)"
   ]
  },
  {
   "cell_type": "code",
   "execution_count": null,
   "id": "e8b8f5ff-0d10-485c-b31b-d19c8ab4ca13",
   "metadata": {},
   "outputs": [],
   "source": [
    "'''\n",
    "    Q4. What is ‘DataFrame’ in pandas and how is it different from pandas.series? Explain with an example.\n",
    "'''"
   ]
  },
  {
   "cell_type": "code",
   "execution_count": null,
   "id": "cb72a28c-33f1-4f22-bd70-5eafd8e01445",
   "metadata": {},
   "outputs": [],
   "source": [
    "A DataFrame is a two-dimensional labeled data structure that consists of rows and columns,\n",
    "where each column can have a different data type. It is similar to a spreadsheet or SQL table, and \n",
    "can be thought of as a collection of Pandas Series objects\n",
    "\n",
    "Series is a one-dimensional labeled data structure that can hold data of any data type, including \n",
    "integers, floating-point numbers, strings, and more."
   ]
  },
  {
   "cell_type": "code",
   "execution_count": null,
   "id": "1da76c3b-e265-4710-82ec-c280a6dd91ae",
   "metadata": {},
   "outputs": [],
   "source": [
    "#Example of DataFrame \n",
    "data = {\"Name\" : [\"Alice\",\"Bob\",\"Claire\"],\n",
    "        \"Age\" : [\"25\",\"30\",\"27\"],\n",
    "        \"Gender\" : [\"Female\",\"Male\",\"Female\"]\n",
    "        }\n",
    "df = pd.DataFrame(data)\n",
    "print(df)\n",
    "\n",
    "#Example of Series\n",
    "list = [1, 2, 3, 4, 5, 6, 7, 8, 9, 10]\n",
    "series = pd.Series(list)\n",
    "print(series)"
   ]
  },
  {
   "cell_type": "code",
   "execution_count": null,
   "id": "1bd68b6b-4f4c-483e-aac0-3da789877ecc",
   "metadata": {},
   "outputs": [],
   "source": [
    "'''\n",
    "    Q5. What are some common functions you can use to manipulate data in a Pandas DataFrame? Can\n",
    "    you give an example of when you might use one of these functions?\n",
    "'''"
   ]
  },
  {
   "cell_type": "code",
   "execution_count": null,
   "id": "dee78163-c05b-4e9d-889d-f69f5474aaf9",
   "metadata": {},
   "outputs": [],
   "source": [
    "Some Common function i.e. used in Pandas Dataframe are:---\n",
    "\n",
    "1. head()\n",
    "2. tail()\n",
    "3. read_excel()\n",
    "4. read_csv()\n",
    "5. read_html()\n",
    "6. to_csv()\n",
    "7. info()\n",
    "8. sort_values()\n",
    "9. describe()\n",
    "10. groupby()"
   ]
  },
  {
   "cell_type": "code",
   "execution_count": 4,
   "id": "2d7ea4f3-7862-43a1-ad97-d67288de64d3",
   "metadata": {},
   "outputs": [
    {
     "name": "stdout",
     "output_type": "stream",
     "text": [
      "         Quantity  Price\n",
      "Product                 \n",
      "A              17   5.00\n",
      "B              13   3.75\n"
     ]
    }
   ],
   "source": [
    "data = {'Date': ['2022-01-01', '2022-01-01', '2022-01-02', '2022-01-02'],\n",
    "              'Product': ['A', 'B', 'A', 'B'],\n",
    "              'Quantity': [10, 5, 7, 8],\n",
    "              'Price': [2.50, 1.75, 2.50, 2.00]\n",
    "             }\n",
    "df = pd.DataFrame(data)\n",
    "\n",
    "revenue_by_product = df.groupby(\"Product\")[[\"Quantity\", \"Price\"]].sum()\n",
    "print(revenue_by_product)\n"
   ]
  },
  {
   "cell_type": "code",
   "execution_count": null,
   "id": "4c3e68bc-3cb9-4c1f-9c06-9c26a7a714f2",
   "metadata": {},
   "outputs": [],
   "source": [
    "'''\n",
    "    Q6. Which of the following is mutable in nature Series, DataFrame, Panel?\n",
    "'''"
   ]
  },
  {
   "cell_type": "code",
   "execution_count": null,
   "id": "c0db2804-0192-417b-8528-1aedb29225d2",
   "metadata": {},
   "outputs": [],
   "source": [
    "In pandas, both Series and DataFrame are mutable.\n",
    "Panel is also mutable in Pandas. \n",
    "However, it is important to note that Panel is deprecated in Pandas 1.0 and beyond, and is not recommended for new code. "
   ]
  },
  {
   "cell_type": "code",
   "execution_count": null,
   "id": "51ffe74a-8a46-44e6-aa4d-d10713522e69",
   "metadata": {},
   "outputs": [],
   "source": [
    "'''\n",
    "    Q7. Create a DataFrame using multiple Series. Explain with an example.\n",
    "'''"
   ]
  },
  {
   "cell_type": "code",
   "execution_count": 8,
   "id": "241c8bd0-894a-40f4-bf72-9ff01b99263b",
   "metadata": {},
   "outputs": [
    {
     "name": "stdout",
     "output_type": "stream",
     "text": [
      "     Name  Age  Gender\n",
      "0   Alice   25  Female\n",
      "1     Bob   30    Male\n",
      "2  Claire   27  Female\n"
     ]
    }
   ],
   "source": [
    "name = pd.Series([\"Alice\", \"Bob\", \"Claire\"])\n",
    "age = pd.Series([25, 30, 27])\n",
    "gender = pd.Series([\"Female\", \"Male\", \"Female\"])\n",
    "\n",
    "df = pd.DataFrame({\"Name\": name, \"Age\": age, \"Gender\": gender})\n",
    "print(df)\n"
   ]
  }
 ],
 "metadata": {
  "kernelspec": {
   "display_name": "Python 3 (ipykernel)",
   "language": "python",
   "name": "python3"
  },
  "language_info": {
   "codemirror_mode": {
    "name": "ipython",
    "version": 3
   },
   "file_extension": ".py",
   "mimetype": "text/x-python",
   "name": "python",
   "nbconvert_exporter": "python",
   "pygments_lexer": "ipython3",
   "version": "3.10.8"
  }
 },
 "nbformat": 4,
 "nbformat_minor": 5
}
